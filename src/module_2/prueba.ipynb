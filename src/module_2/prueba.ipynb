{
 "cells": [
  {
   "cell_type": "markdown",
   "id": "de391438",
   "metadata": {},
   "source": [
    "# Groceries E-commerce EDA\n"
   ]
  },
  {
   "cell_type": "code",
   "execution_count": 33,
   "id": "a6c1ec6d",
   "metadata": {},
   "outputs": [],
   "source": [
    "# Imports and constants\n",
    "\n",
    "import os\n",
    "import boto3\n",
    "import requests\n",
    "from dotenv import load_dotenv\n",
    "import pathlib\n",
    "import pandas as pd\n",
    "import fastparquet as fp\n",
    "\n",
    "# Load environment variables from .env file\n",
    "load_dotenv()\n",
    "AWS_ACCESS_KEY_ID = os.getenv(\"AWS_ACCESS_KEY_ID\")\n",
    "AWS_SECRET_ACCESS_KEY = os.getenv(\"AWS_SECRET_ACCESS_KEY\")\n",
    "S3_PATH = \"s3://zrive-ds-data/groceries/sampled-datasets/\"\n",
    "LOCAL_DATA_PATH = 'groceries_data/'\n"
   ]
  },
  {
   "cell_type": "markdown",
   "id": "a8b3134f",
   "metadata": {},
   "source": [
    "## 1. Download or get data\n",
    "\n",
    "First time we need to download the data from AWS s3://zrive-ds-data/groceries/sampled-datasets/ and save it. Next times, we only need to access local data. "
   ]
  },
  {
   "cell_type": "code",
   "execution_count": null,
   "id": "f75cc175",
   "metadata": {},
   "outputs": [],
   "source": [
    "def download_grocery_data(aws_url: str, local_path: str) -> None:\n",
    "    \"\"\"\n",
    "    Downloads all grocery data files (.parquet) from s3 dir and saves them to the specified local path.\n",
    "    \"\"\"\n",
    "\n",
    "    print(f\"Downloading grocery data from {aws_url} to {local_path}\")\n",
    "    \n",
    "    # Create local directory if it doesn't exist\n",
    "    pathlib.Path(local_path).mkdir(parents=True, exist_ok=True)\n",
    "\n",
    "    # Initialize S3 client\n",
    "    s3 = boto3.client(\n",
    "        's3',\n",
    "        aws_access_key_id=AWS_ACCESS_KEY_ID,\n",
    "        aws_secret_access_key=AWS_SECRET_ACCESS_KEY\n",
    "    )\n",
    "\n",
    "    # Extract bucket name and prefix from the S3 path\n",
    "    bucket_name = aws_url.split('/')[2]\n",
    "    prefix = '/'.join(aws_url.split('/')[3:])\n",
    "    print(f\"Bucket_name: {bucket_name}, Prefix: {prefix}\")\n",
    "\n",
    "    # List objects in the specified S3 bucket and prefix\n",
    "    response = s3.list_objects_v2(Bucket=bucket_name, Prefix=prefix)\n",
    "    if 'Contents' not in response:\n",
    "        print(\"No contents found in the specified S3 path.\")\n",
    "        return\n",
    "    for obj in response['Contents']:\n",
    "        file_key = obj['Key']\n",
    "        file_name = os.path.basename(file_key)\n",
    "        local_file_path = os.path.join(local_path, file_name)\n",
    "\n",
    "        # Download the file\n",
    "        print(f\"Downloading {file_key} to {local_file_path}\")\n",
    "        s3.download_file(bucket_name, file_key, local_file_path)\n",
    "\n",
    "\n",
    "\n",
    "def data_files_exists(local_path: str, files_num: int = 5) -> bool:\n",
    "    \"\"\"\n",
    "    Check if the specified number of data files exist in the local path.\n",
    "    \"\"\"\n",
    "    # List all files in the local directory\n",
    "    files = os.listdir(local_path)\n",
    "    \n",
    "    # Filter for .parquet files\n",
    "    parquet_files = [f for f in files if f.endswith('.parquet')]\n",
    "    \n",
    "    # Check if the number of .parquet files is greater than or equal to the specified number\n",
    "    return len(parquet_files) >= files_num\n",
    "\n",
    "\n",
    "\n",
    "def get_grocery_data(aws_url: str, local_path: str) -> pd.DataFrame:\n",
    "    \"\"\"\n",
    "    Main function to get grocery data. Downloads the data if it doesn't exist locally.\n",
    "    \"\"\"\n",
    "    # Check if the data already exists\n",
    "    if not data_files_exists(aws_url):\n",
    "        print(\"Data not found locally. Downloading...\")\n",
    "        download_grocery_data(aws_url, local_path)\n",
    "    else:\n",
    "        print(\"Data already exists locally.\")\n",
    "\n",
    "    # Load for example orders data into a DataFrame\n",
    "    orders_df = pd.read_parquet('orders.parquet', engine='fastparquet')\n",
    "    \n",
    "    return orders_df"
   ]
  },
  {
   "cell_type": "code",
   "execution_count": 32,
   "id": "c9899282",
   "metadata": {},
   "outputs": [
    {
     "name": "stdout",
     "output_type": "stream",
     "text": [
      "Data not found locally. Downloading...\n",
      "Downloading grocery data from s3://zrive-ds-data/groceries/sampled-datasets/ to groceries_data/\n",
      "Bucket_name: zrive-ds-data, Prefix: groceries/sampled-datasets/\n",
      "Downloading groceries/sampled-datasets/abandoned_carts.parquet to groceries_data/abandoned_carts.parquet\n",
      "Downloading groceries/sampled-datasets/inventory.parquet to groceries_data/inventory.parquet\n",
      "Downloading groceries/sampled-datasets/orders.parquet to groceries_data/orders.parquet\n",
      "Downloading groceries/sampled-datasets/regulars.parquet to groceries_data/regulars.parquet\n",
      "Downloading groceries/sampled-datasets/users.parquet to groceries_data/users.parquet\n"
     ]
    },
    {
     "ename": "ImportError",
     "evalue": "Missing optional dependency 'fastparquet'. fastparquet is required for parquet support. Use pip or conda to install fastparquet.",
     "output_type": "error",
     "traceback": [
      "\u001b[31m---------------------------------------------------------------------------\u001b[39m",
      "\u001b[31mModuleNotFoundError\u001b[39m                       Traceback (most recent call last)",
      "\u001b[36mFile \u001b[39m\u001b[32m~/.cache/pypoetry/virtualenvs/zrive-ds-yVHW3Yen-py3.11/lib/python3.11/site-packages/pandas/compat/_optional.py:135\u001b[39m, in \u001b[36mimport_optional_dependency\u001b[39m\u001b[34m(name, extra, errors, min_version)\u001b[39m\n\u001b[32m    134\u001b[39m \u001b[38;5;28;01mtry\u001b[39;00m:\n\u001b[32m--> \u001b[39m\u001b[32m135\u001b[39m     module = \u001b[43mimportlib\u001b[49m\u001b[43m.\u001b[49m\u001b[43mimport_module\u001b[49m\u001b[43m(\u001b[49m\u001b[43mname\u001b[49m\u001b[43m)\u001b[49m\n\u001b[32m    136\u001b[39m \u001b[38;5;28;01mexcept\u001b[39;00m \u001b[38;5;167;01mImportError\u001b[39;00m:\n",
      "\u001b[36mFile \u001b[39m\u001b[32m~/.pyenv/versions/3.11.0/lib/python3.11/importlib/__init__.py:126\u001b[39m, in \u001b[36mimport_module\u001b[39m\u001b[34m(name, package)\u001b[39m\n\u001b[32m    125\u001b[39m         level += \u001b[32m1\u001b[39m\n\u001b[32m--> \u001b[39m\u001b[32m126\u001b[39m \u001b[38;5;28;01mreturn\u001b[39;00m \u001b[43m_bootstrap\u001b[49m\u001b[43m.\u001b[49m\u001b[43m_gcd_import\u001b[49m\u001b[43m(\u001b[49m\u001b[43mname\u001b[49m\u001b[43m[\u001b[49m\u001b[43mlevel\u001b[49m\u001b[43m:\u001b[49m\u001b[43m]\u001b[49m\u001b[43m,\u001b[49m\u001b[43m \u001b[49m\u001b[43mpackage\u001b[49m\u001b[43m,\u001b[49m\u001b[43m \u001b[49m\u001b[43mlevel\u001b[49m\u001b[43m)\u001b[49m\n",
      "\u001b[36mFile \u001b[39m\u001b[32m<frozen importlib._bootstrap>:1206\u001b[39m, in \u001b[36m_gcd_import\u001b[39m\u001b[34m(name, package, level)\u001b[39m\n",
      "\u001b[36mFile \u001b[39m\u001b[32m<frozen importlib._bootstrap>:1178\u001b[39m, in \u001b[36m_find_and_load\u001b[39m\u001b[34m(name, import_)\u001b[39m\n",
      "\u001b[36mFile \u001b[39m\u001b[32m<frozen importlib._bootstrap>:1142\u001b[39m, in \u001b[36m_find_and_load_unlocked\u001b[39m\u001b[34m(name, import_)\u001b[39m\n",
      "\u001b[31mModuleNotFoundError\u001b[39m: No module named 'fastparquet'",
      "\nDuring handling of the above exception, another exception occurred:\n",
      "\u001b[31mImportError\u001b[39m                               Traceback (most recent call last)",
      "\u001b[36mCell\u001b[39m\u001b[36m \u001b[39m\u001b[32mIn[32]\u001b[39m\u001b[32m, line 1\u001b[39m\n\u001b[32m----> \u001b[39m\u001b[32m1\u001b[39m df = \u001b[43mget_grocery_data\u001b[49m\u001b[43m(\u001b[49m\u001b[43mS3_PATH\u001b[49m\u001b[43m,\u001b[49m\u001b[43m \u001b[49m\u001b[43mLOCAL_DATA_PATH\u001b[49m\u001b[43m)\u001b[49m\n\u001b[32m      2\u001b[39m df.head()\n",
      "\u001b[36mCell\u001b[39m\u001b[36m \u001b[39m\u001b[32mIn[31]\u001b[39m\u001b[32m, line 54\u001b[39m, in \u001b[36mget_grocery_data\u001b[39m\u001b[34m(aws_url, local_path)\u001b[39m\n\u001b[32m     51\u001b[39m     \u001b[38;5;28mprint\u001b[39m(\u001b[33m\"\u001b[39m\u001b[33mData already exists locally.\u001b[39m\u001b[33m\"\u001b[39m)\n\u001b[32m     53\u001b[39m \u001b[38;5;66;03m# Load for example orders data into a DataFrame\u001b[39;00m\n\u001b[32m---> \u001b[39m\u001b[32m54\u001b[39m orders_df = \u001b[43mpd\u001b[49m\u001b[43m.\u001b[49m\u001b[43mread_parquet\u001b[49m\u001b[43m(\u001b[49m\u001b[33;43m'\u001b[39;49m\u001b[33;43morders.parquet\u001b[39;49m\u001b[33;43m'\u001b[39;49m\u001b[43m,\u001b[49m\u001b[43m \u001b[49m\u001b[43mengine\u001b[49m\u001b[43m=\u001b[49m\u001b[33;43m'\u001b[39;49m\u001b[33;43mfastparquet\u001b[39;49m\u001b[33;43m'\u001b[39;49m\u001b[43m)\u001b[49m\n\u001b[32m     56\u001b[39m \u001b[38;5;28;01mreturn\u001b[39;00m orders_df\n",
      "\u001b[36mFile \u001b[39m\u001b[32m~/.cache/pypoetry/virtualenvs/zrive-ds-yVHW3Yen-py3.11/lib/python3.11/site-packages/pandas/io/parquet.py:651\u001b[39m, in \u001b[36mread_parquet\u001b[39m\u001b[34m(path, engine, columns, storage_options, use_nullable_dtypes, dtype_backend, filesystem, filters, **kwargs)\u001b[39m\n\u001b[32m    498\u001b[39m \u001b[38;5;129m@doc\u001b[39m(storage_options=_shared_docs[\u001b[33m\"\u001b[39m\u001b[33mstorage_options\u001b[39m\u001b[33m\"\u001b[39m])\n\u001b[32m    499\u001b[39m \u001b[38;5;28;01mdef\u001b[39;00m\u001b[38;5;250m \u001b[39m\u001b[34mread_parquet\u001b[39m(\n\u001b[32m    500\u001b[39m     path: FilePath | ReadBuffer[\u001b[38;5;28mbytes\u001b[39m],\n\u001b[32m   (...)\u001b[39m\u001b[32m    508\u001b[39m     **kwargs,\n\u001b[32m    509\u001b[39m ) -> DataFrame:\n\u001b[32m    510\u001b[39m \u001b[38;5;250m    \u001b[39m\u001b[33;03m\"\"\"\u001b[39;00m\n\u001b[32m    511\u001b[39m \u001b[33;03m    Load a parquet object from the file path, returning a DataFrame.\u001b[39;00m\n\u001b[32m    512\u001b[39m \n\u001b[32m   (...)\u001b[39m\u001b[32m    648\u001b[39m \u001b[33;03m    1    4    9\u001b[39;00m\n\u001b[32m    649\u001b[39m \u001b[33;03m    \"\"\"\u001b[39;00m\n\u001b[32m--> \u001b[39m\u001b[32m651\u001b[39m     impl = \u001b[43mget_engine\u001b[49m\u001b[43m(\u001b[49m\u001b[43mengine\u001b[49m\u001b[43m)\u001b[49m\n\u001b[32m    653\u001b[39m     \u001b[38;5;28;01mif\u001b[39;00m use_nullable_dtypes \u001b[38;5;129;01mis\u001b[39;00m \u001b[38;5;129;01mnot\u001b[39;00m lib.no_default:\n\u001b[32m    654\u001b[39m         msg = (\n\u001b[32m    655\u001b[39m             \u001b[33m\"\u001b[39m\u001b[33mThe argument \u001b[39m\u001b[33m'\u001b[39m\u001b[33muse_nullable_dtypes\u001b[39m\u001b[33m'\u001b[39m\u001b[33m is deprecated and will be removed \u001b[39m\u001b[33m\"\u001b[39m\n\u001b[32m    656\u001b[39m             \u001b[33m\"\u001b[39m\u001b[33min a future version.\u001b[39m\u001b[33m\"\u001b[39m\n\u001b[32m    657\u001b[39m         )\n",
      "\u001b[36mFile \u001b[39m\u001b[32m~/.cache/pypoetry/virtualenvs/zrive-ds-yVHW3Yen-py3.11/lib/python3.11/site-packages/pandas/io/parquet.py:80\u001b[39m, in \u001b[36mget_engine\u001b[39m\u001b[34m(engine)\u001b[39m\n\u001b[32m     78\u001b[39m     \u001b[38;5;28;01mreturn\u001b[39;00m PyArrowImpl()\n\u001b[32m     79\u001b[39m \u001b[38;5;28;01melif\u001b[39;00m engine == \u001b[33m\"\u001b[39m\u001b[33mfastparquet\u001b[39m\u001b[33m\"\u001b[39m:\n\u001b[32m---> \u001b[39m\u001b[32m80\u001b[39m     \u001b[38;5;28;01mreturn\u001b[39;00m \u001b[43mFastParquetImpl\u001b[49m\u001b[43m(\u001b[49m\u001b[43m)\u001b[49m\n\u001b[32m     82\u001b[39m \u001b[38;5;28;01mraise\u001b[39;00m \u001b[38;5;167;01mValueError\u001b[39;00m(\u001b[33m\"\u001b[39m\u001b[33mengine must be one of \u001b[39m\u001b[33m'\u001b[39m\u001b[33mpyarrow\u001b[39m\u001b[33m'\u001b[39m\u001b[33m, \u001b[39m\u001b[33m'\u001b[39m\u001b[33mfastparquet\u001b[39m\u001b[33m'\u001b[39m\u001b[33m\"\u001b[39m)\n",
      "\u001b[36mFile \u001b[39m\u001b[32m~/.cache/pypoetry/virtualenvs/zrive-ds-yVHW3Yen-py3.11/lib/python3.11/site-packages/pandas/io/parquet.py:300\u001b[39m, in \u001b[36mFastParquetImpl.__init__\u001b[39m\u001b[34m(self)\u001b[39m\n\u001b[32m    297\u001b[39m \u001b[38;5;28;01mdef\u001b[39;00m\u001b[38;5;250m \u001b[39m\u001b[34m__init__\u001b[39m(\u001b[38;5;28mself\u001b[39m) -> \u001b[38;5;28;01mNone\u001b[39;00m:\n\u001b[32m    298\u001b[39m     \u001b[38;5;66;03m# since pandas is a dependency of fastparquet\u001b[39;00m\n\u001b[32m    299\u001b[39m     \u001b[38;5;66;03m# we need to import on first use\u001b[39;00m\n\u001b[32m--> \u001b[39m\u001b[32m300\u001b[39m     fastparquet = \u001b[43mimport_optional_dependency\u001b[49m\u001b[43m(\u001b[49m\n\u001b[32m    301\u001b[39m \u001b[43m        \u001b[49m\u001b[33;43m\"\u001b[39;49m\u001b[33;43mfastparquet\u001b[39;49m\u001b[33;43m\"\u001b[39;49m\u001b[43m,\u001b[49m\u001b[43m \u001b[49m\u001b[43mextra\u001b[49m\u001b[43m=\u001b[49m\u001b[33;43m\"\u001b[39;49m\u001b[33;43mfastparquet is required for parquet support.\u001b[39;49m\u001b[33;43m\"\u001b[39;49m\n\u001b[32m    302\u001b[39m \u001b[43m    \u001b[49m\u001b[43m)\u001b[49m\n\u001b[32m    303\u001b[39m     \u001b[38;5;28mself\u001b[39m.api = fastparquet\n",
      "\u001b[36mFile \u001b[39m\u001b[32m~/.cache/pypoetry/virtualenvs/zrive-ds-yVHW3Yen-py3.11/lib/python3.11/site-packages/pandas/compat/_optional.py:138\u001b[39m, in \u001b[36mimport_optional_dependency\u001b[39m\u001b[34m(name, extra, errors, min_version)\u001b[39m\n\u001b[32m    136\u001b[39m \u001b[38;5;28;01mexcept\u001b[39;00m \u001b[38;5;167;01mImportError\u001b[39;00m:\n\u001b[32m    137\u001b[39m     \u001b[38;5;28;01mif\u001b[39;00m errors == \u001b[33m\"\u001b[39m\u001b[33mraise\u001b[39m\u001b[33m\"\u001b[39m:\n\u001b[32m--> \u001b[39m\u001b[32m138\u001b[39m         \u001b[38;5;28;01mraise\u001b[39;00m \u001b[38;5;167;01mImportError\u001b[39;00m(msg)\n\u001b[32m    139\u001b[39m     \u001b[38;5;28;01mreturn\u001b[39;00m \u001b[38;5;28;01mNone\u001b[39;00m\n\u001b[32m    141\u001b[39m \u001b[38;5;66;03m# Handle submodules: if we have submodule, grab parent module from sys.modules\u001b[39;00m\n",
      "\u001b[31mImportError\u001b[39m: Missing optional dependency 'fastparquet'. fastparquet is required for parquet support. Use pip or conda to install fastparquet."
     ]
    }
   ],
   "source": [
    "df = get_grocery_data(S3_PATH, LOCAL_DATA_PATH)\n",
    "df.head()"
   ]
  },
  {
   "cell_type": "code",
   "execution_count": null,
   "id": "79f5489a",
   "metadata": {},
   "outputs": [],
   "source": [
    "\n",
    "bucket_name = S3_PATH.split('/')[2]\n",
    "prefix = '/'.join(S3_PATH.split('/')[3:])\n",
    "\n",
    "# Initialize S3 client\n",
    "s3_client = boto3.client(\n",
    "    's3',\n",
    "    aws_access_key_id=AWS_ACCESS_KEY_ID,\n",
    "    aws_secret_access_key=AWS_SECRET_ACCESS_KEY,\n",
    ")"
   ]
  }
 ],
 "metadata": {
  "kernelspec": {
   "display_name": "zrive-ds-yVHW3Yen-py3.11",
   "language": "python",
   "name": "python3"
  },
  "language_info": {
   "codemirror_mode": {
    "name": "ipython",
    "version": 3
   },
   "file_extension": ".py",
   "mimetype": "text/x-python",
   "name": "python",
   "nbconvert_exporter": "python",
   "pygments_lexer": "ipython3",
   "version": "3.11.0"
  }
 },
 "nbformat": 4,
 "nbformat_minor": 5
}
